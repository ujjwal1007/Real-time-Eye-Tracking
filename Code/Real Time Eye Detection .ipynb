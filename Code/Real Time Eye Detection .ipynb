{
 "cells": [
  {
   "cell_type": "code",
   "execution_count": 1,
   "id": "30eae7ef",
   "metadata": {},
   "outputs": [],
   "source": [
    "import dlib\n",
    "import cv2 as cv\n",
    "\n",
    "detector = dlib.get_frontal_face_detector()\n",
    "predictor = dlib.shape_predictor('shape_predictor.dat')"
   ]
  },
  {
   "cell_type": "code",
   "execution_count": null,
   "id": "1c18e3c1",
   "metadata": {
    "scrolled": false
   },
   "outputs": [],
   "source": [
    "camera = cv.VideoCapture(0)\n",
    "\n",
    "while True:\n",
    "\n",
    "    _, img = camera.read()\n",
    "    \n",
    "    img = cv.flip(img, 1)\n",
    "    \n",
    "    img = cv.resize(img,(1024,768))\n",
    "    \n",
    "    try:\n",
    "        det = detector(img)\n",
    "        pred = predictor(img, det[0])\n",
    "\n",
    "        i = 1\n",
    "        \n",
    "        for i in range(36,42):\n",
    "\n",
    "            cv.circle(img, (int(pred.part(i).x), int(pred.part(i).y)),2, (233,197,110), -1)\n",
    "            cv.putText(img, str(i), (int(pred.part(i).x), int(pred.part(i).y)), cv.FONT_HERSHEY_PLAIN, .7, (110,197,233), 1) \n",
    "            i += 1\n",
    "        \n",
    "        \n",
    "        y1 = int(pred.part(38).y)\n",
    "        y2 = int(pred.part(40).y)\n",
    "        y3 = int(pred.part(37).y)\n",
    "        y4 = int(pred.part(41).y)\n",
    "        j=1\n",
    "        \n",
    "        for j in range(42,48):\n",
    "            cv.circle(img, (int(pred.part(j).x), int(pred.part(j).y)),2, (233,197,110), -1)\n",
    "            cv.putText(img, str(j), (int(pred.part(j).x), int(pred.part(j).y)), cv.FONT_HERSHEY_PLAIN, .7, (110,197,233), 1)\n",
    "            j += 1\n",
    "        \n",
    "        y11 = int(pred.part(43).y)\n",
    "        y22 = int(pred.part(47).y)\n",
    "        y33 = int(pred.part(44).y)\n",
    "        y44 = int(pred.part(46).y)\n",
    "        \n",
    "        #print( ((abs(y2-y1)&abs(y4-y3))>10) | ((abs(y22-y11)&abs(y44-y33))>10) )\n",
    "        #print(abs(y2-y1),abs(y4-y3),abs(y44-y33),abs(y22-y11)) \n",
    "        \n",
    "        if( ((abs(y2-y1)&abs(y4-y3))>10) | ((abs(y22-y11)&abs(y44-y33))>10) ):\n",
    "            cv.putText(img, \"Open\", (20,140), cv.FONT_HERSHEY_PLAIN, 3, (110,197,233), 2) \n",
    "        else:\n",
    "            cv.putText(img, \"Closed\", (20,140), cv.FONT_HERSHEY_PLAIN, 3, (110,197,233), 2) \n",
    "        \n",
    "        cv.imshow(\"Facial Landmarks\",img)\n",
    "    except:\n",
    "        \n",
    "        cv.putText(img, \"Face Not Found\", (20,140), cv.FONT_HERSHEY_PLAIN, 3, (110,197,233), 2) \n",
    "        cv.imshow(\"Facial Landmarks\",img)\n",
    "    \n",
    "    \n",
    "    \n",
    "    key = cv.waitKey(30)\n",
    "    \n",
    "    if (key == 27):\n",
    "        break\n",
    "        \n",
    "camera.release()"
   ]
  },
  {
   "cell_type": "code",
   "execution_count": null,
   "id": "140146a0",
   "metadata": {},
   "outputs": [],
   "source": []
  }
 ],
 "metadata": {
  "kernelspec": {
   "display_name": "Python 3 (ipykernel)",
   "language": "python",
   "name": "python3"
  },
  "language_info": {
   "codemirror_mode": {
    "name": "ipython",
    "version": 3
   },
   "file_extension": ".py",
   "mimetype": "text/x-python",
   "name": "python",
   "nbconvert_exporter": "python",
   "pygments_lexer": "ipython3",
   "version": "3.10.4"
  }
 },
 "nbformat": 4,
 "nbformat_minor": 5
}
